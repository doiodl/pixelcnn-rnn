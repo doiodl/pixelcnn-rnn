{
  "nbformat": 4,
  "nbformat_minor": 0,
  "metadata": {
    "colab": {
      "name": "PixelRNN.ipynb",
      "provenance": [],
      "collapsed_sections": []
    },
    "kernelspec": {
      "name": "python3",
      "display_name": "Python 3"
    },
    "accelerator": "GPU"
  },
  "cells": [
    {
      "cell_type": "code",
      "metadata": {
        "id": "6N9Uxwi_3MHQ",
        "colab_type": "code",
        "colab": {}
      },
      "source": [
        "from tensorflow.keras.models import Model\n",
        "from tensorflow.keras.layers import Conv2D, Input, ReLU, Add, Layer, Activation, LSTM\n",
        "from tensorflow import keras\n",
        "from tensorflow.keras.callbacks import ReduceLROnPlateau, ModelCheckpoint\n",
        "import tensorflow as tf\n",
        "import math\n",
        "import numpy as np\n",
        "import matplotlib.pyplot as plt\n",
        "\n",
        "%matplotlib inline "
      ],
      "execution_count": null,
      "outputs": []
    },
    {
      "cell_type": "code",
      "metadata": {
        "id": "CRTpkRzTPOuw",
        "colab_type": "code",
        "colab": {}
      },
      "source": [
        "from tensorflow.python.keras.layers.convolutional_recurrent import *"
      ],
      "execution_count": null,
      "outputs": []
    },
    {
      "cell_type": "code",
      "metadata": {
        "id": "w6VIDD7A9QYK",
        "colab_type": "code",
        "colab": {}
      },
      "source": [
        "def get_split(x):\n",
        "  b, row, cols, ch = x.shape\n",
        "  num_add = 2 * cols - 1\n",
        "\n",
        "  padding_right = tf.constant([[0, 0], [0, 0], [0, num_add - cols], [0, 0]])\n",
        "  padding_left = tf.constant([[0, 0], [0, 0], [num_add - cols, 0], [0, 0]])\n",
        "  right = tf.pad(x, paddings=padding_right)\n",
        "  left = tf.pad(x, paddings=padding_left)\n",
        "  r_list = array_ops.split(right, row, axis=1)\n",
        "  l_list = array_ops.split(left, row, axis=1)\n",
        "  for i in range(len(r_list)):\n",
        "    r_list[i] =  tf.roll(r_list[i], shift=[0, 0, i], axis=[0, 0, 2])\n",
        "    l_list[i] =  tf.roll(l_list[i], shift=[0, 0, -i], axis=[0, 0, 2])\n",
        "\n",
        "  right = tf.reshape(tf.stack(r_list, axis=1), (-1, row, num_add, ch)) \n",
        "  left = tf.reshape(tf.stack(l_list, axis=1), (-1, row, num_add, ch))\n",
        "\n",
        "  right = tf.transpose(right, perm=[0, 2, 1, 3])\n",
        "  left = tf.transpose(left, perm=[0, 2, 1, 3])\n",
        "\n",
        "  right = tf.reshape(right, (-1, num_add, row, 1, ch))\n",
        "  left = tf.reshape(left, (-1, num_add, row, 1, ch))\n",
        "  return right, left"
      ],
      "execution_count": null,
      "outputs": []
    },
    {
      "cell_type": "code",
      "metadata": {
        "id": "a9n9zxNQ9WJq",
        "colab_type": "code",
        "colab": {}
      },
      "source": [
        "def add_rl(x, y):\n",
        "  b, time, row, cols, ch = x.shape\n",
        "\n",
        "  right = tf.reshape(x, (-1, time, row, ch))\n",
        "  left = tf.reshape(y, (-1, time, row, ch))\n",
        "\n",
        "  right = tf.transpose(right, perm=[0, 2, 1, 3])\n",
        "  left = tf.transpose(left, perm=[0, 2, 1, 3])\n",
        "\n",
        "  r_list = array_ops.split(right, row, axis=1)\n",
        "  l_list = array_ops.split(left, row, axis=1)\n",
        "  for i in range(len(r_list)):\n",
        "    r_list[i] =  tf.roll(r_list[i], shift=[0, 0, -i], axis=[0, 0, 2])\n",
        "    l_list[i] =  tf.roll(l_list[i], shift=[0, 0, i], axis=[0, 0, 2])\n",
        "  \n",
        "  right = tf.reshape(tf.stack(r_list, axis=1), (-1, row, time, ch))\n",
        "  y = tf.zeros_like(l_list[0], dtype=l_list[0].dtype)\n",
        "  l_list = [y] + l_list[:-1]\n",
        "  left = tf.reshape(tf.stack(l_list, axis=1), (-1, row, time, ch))\n",
        "\n",
        "  return right, left\n",
        "  # return right[:, :, :row, :] + left[:, :, :row, :]"
      ],
      "execution_count": null,
      "outputs": []
    },
    {
      "cell_type": "code",
      "metadata": {
        "id": "MEDkMU1Z9g1I",
        "colab_type": "code",
        "colab": {}
      },
      "source": [
        "t = np.ones((2, 3, 3, 1), dtype=np.float32)\n",
        "t[0, :, :, :] = 3.4\n",
        "t[1, :, :, :] = 2\n",
        "t = tf.Variable(t)"
      ],
      "execution_count": null,
      "outputs": []
    },
    {
      "cell_type": "code",
      "metadata": {
        "id": "L7L7G44kqJ87",
        "colab_type": "code",
        "colab": {
          "base_uri": "https://localhost:8080/",
          "height": 87
        },
        "outputId": "3e0e49d8-fbb0-43b9-deac-c7951d8298c5"
      },
      "source": [
        "t[0, :, :, 0]"
      ],
      "execution_count": null,
      "outputs": [
        {
          "output_type": "execute_result",
          "data": {
            "text/plain": [
              "<tf.Tensor: shape=(3, 3), dtype=float32, numpy=\n",
              "array([[3.4, 3.4, 3.4],\n",
              "       [3.4, 3.4, 3.4],\n",
              "       [3.4, 3.4, 3.4]], dtype=float32)>"
            ]
          },
          "metadata": {
            "tags": []
          },
          "execution_count": 10
        }
      ]
    },
    {
      "cell_type": "code",
      "metadata": {
        "id": "WaYvcSrd9k0r",
        "colab_type": "code",
        "colab": {}
      },
      "source": [
        "r, l = get_split(t)"
      ],
      "execution_count": null,
      "outputs": []
    },
    {
      "cell_type": "code",
      "metadata": {
        "id": "EMUKCEORnz6U",
        "colab_type": "code",
        "colab": {
          "base_uri": "https://localhost:8080/",
          "height": 372
        },
        "outputId": "bee3d643-1efb-40c8-ecbe-a35576374c80"
      },
      "source": [
        "l[0, :, :, :, 0]"
      ],
      "execution_count": null,
      "outputs": [
        {
          "output_type": "execute_result",
          "data": {
            "text/plain": [
              "<tf.Tensor: shape=(5, 3, 1), dtype=float32, numpy=\n",
              "array([[[0. ],\n",
              "        [0. ],\n",
              "        [3.4]],\n",
              "\n",
              "       [[0. ],\n",
              "        [3.4],\n",
              "        [3.4]],\n",
              "\n",
              "       [[3.4],\n",
              "        [3.4],\n",
              "        [3.4]],\n",
              "\n",
              "       [[3.4],\n",
              "        [3.4],\n",
              "        [0. ]],\n",
              "\n",
              "       [[3.4],\n",
              "        [0. ],\n",
              "        [0. ]]], dtype=float32)>"
            ]
          },
          "metadata": {
            "tags": []
          },
          "execution_count": 11
        }
      ]
    },
    {
      "cell_type": "code",
      "metadata": {
        "id": "Jh1mkIhD9sRM",
        "colab_type": "code",
        "colab": {}
      },
      "source": [
        "lnew = ConvLSTM2D(1, (2, 1), padding='same', return_sequences=True, go_backwards=True,)(l)\n",
        "rnew = ConvLSTM2D(1, (2, 1), padding='same', return_sequences=True, )(r)"
      ],
      "execution_count": null,
      "outputs": []
    },
    {
      "cell_type": "code",
      "metadata": {
        "id": "JPVY1LPI98cp",
        "colab_type": "code",
        "colab": {}
      },
      "source": [
        "r2, l2 = add_rl(rnew, lnew)"
      ],
      "execution_count": null,
      "outputs": []
    },
    {
      "cell_type": "code",
      "metadata": {
        "id": "jY6iZFAD0Yuu",
        "colab_type": "code",
        "colab": {}
      },
      "source": [
        "l = tf.reverse(l, axis=[1, 3])"
      ],
      "execution_count": null,
      "outputs": []
    },
    {
      "cell_type": "code",
      "metadata": {
        "id": "OumkLal70f9a",
        "colab_type": "code",
        "colab": {}
      },
      "source": [
        ""
      ],
      "execution_count": null,
      "outputs": []
    },
    {
      "cell_type": "code",
      "metadata": {
        "id": "ZvBxve0XERg2",
        "colab_type": "code",
        "colab": {
          "base_uri": "https://localhost:8080/",
          "height": 105
        },
        "outputId": "750bc5b0-58b0-4742-816d-1a274b836c10"
      },
      "source": [
        "tf.transpose(tf.reshape(lnew, (-1, 5, 3, 1)), perm=[0, 2, 1, 3])[0, :, :, 0]"
      ],
      "execution_count": null,
      "outputs": [
        {
          "output_type": "execute_result",
          "data": {
            "text/plain": [
              "<tf.Tensor: shape=(3, 5), dtype=float32, numpy=\n",
              "array([[0.        , 0.        , 0.        , 0.        , 0.10645743],\n",
              "       [0.        , 0.        , 0.        , 0.10456979, 0.07840092],\n",
              "       [0.10897781, 0.15819164, 0.17983194, 0.16671334, 0.08432087]],\n",
              "      dtype=float32)>"
            ]
          },
          "metadata": {
            "tags": []
          },
          "execution_count": 19
        }
      ]
    },
    {
      "cell_type": "code",
      "metadata": {
        "id": "6gQdTuEl-Cho",
        "colab_type": "code",
        "colab": {
          "base_uri": "https://localhost:8080/",
          "height": 105
        },
        "outputId": "8623e228-232c-40f9-cf32-725964b183be"
      },
      "source": [
        "r2[0, :, :, 0]"
      ],
      "execution_count": null,
      "outputs": [
        {
          "output_type": "execute_result",
          "data": {
            "text/plain": [
              "<tf.Tensor: shape=(3, 5), dtype=float32, numpy=\n",
              "array([[ 0.70073986,  0.04309344, -0.02251343, -0.0026203 , -0.14268982],\n",
              "       [ 0.70073986,  0.04309344, -0.02251343, -0.        ,  0.        ],\n",
              "       [ 0.70073986,  0.8609684 ,  0.9080044 ,  0.        ,  0.        ]],\n",
              "      dtype=float32)>"
            ]
          },
          "metadata": {
            "tags": []
          },
          "execution_count": 17
        }
      ]
    },
    {
      "cell_type": "code",
      "metadata": {
        "id": "sij9MDqL-PWn",
        "colab_type": "code",
        "colab": {
          "base_uri": "https://localhost:8080/",
          "height": 105
        },
        "outputId": "c0dd125a-711b-4a03-854d-1337425dec4b"
      },
      "source": [
        "tf.transpose(tf.reshape(lnew, (-1, 5, 3, 1)), perm=[0, 2, 1, 3])[0, :, :, 0]"
      ],
      "execution_count": null,
      "outputs": [
        {
          "output_type": "execute_result",
          "data": {
            "text/plain": [
              "<tf.Tensor: shape=(3, 5), dtype=float32, numpy=\n",
              "array([[0.        , 0.        , 0.        , 0.        , 0.10645743],\n",
              "       [0.        , 0.        , 0.        , 0.10456979, 0.07840092],\n",
              "       [0.10897781, 0.15819164, 0.17983194, 0.16671334, 0.08432087]],\n",
              "      dtype=float32)>"
            ]
          },
          "metadata": {
            "tags": []
          },
          "execution_count": 21
        }
      ]
    },
    {
      "cell_type": "code",
      "metadata": {
        "id": "pxJYTV6PGw-f",
        "colab_type": "code",
        "colab": {
          "base_uri": "https://localhost:8080/",
          "height": 105
        },
        "outputId": "516377fc-acd0-49f1-a052-5d520ff69dde"
      },
      "source": [
        "l2[0, :, :, 0]"
      ],
      "execution_count": null,
      "outputs": [
        {
          "output_type": "execute_result",
          "data": {
            "text/plain": [
              "<tf.Tensor: shape=(3, 5), dtype=float32, numpy=\n",
              "array([[0.        , 0.        , 0.        , 0.        , 0.        ],\n",
              "       [0.        , 0.        , 0.        , 0.        , 0.10645743],\n",
              "       [0.07840092, 0.        , 0.        , 0.        , 0.10456979]],\n",
              "      dtype=float32)>"
            ]
          },
          "metadata": {
            "tags": []
          },
          "execution_count": 20
        }
      ]
    },
    {
      "cell_type": "code",
      "metadata": {
        "id": "rlC7NXN5-gn3",
        "colab_type": "code",
        "colab": {}
      },
      "source": [
        "rr = r2[:, :, :3, :] + l2[:, :, 2:, :]"
      ],
      "execution_count": null,
      "outputs": []
    },
    {
      "cell_type": "code",
      "metadata": {
        "id": "UHj2h4v6DaX3",
        "colab_type": "code",
        "colab": {
          "base_uri": "https://localhost:8080/",
          "height": 87
        },
        "outputId": "6ea99489-540c-4188-aac5-02144bc43694"
      },
      "source": [
        "rr[0, :, :, 0]"
      ],
      "execution_count": null,
      "outputs": [
        {
          "output_type": "execute_result",
          "data": {
            "text/plain": [
              "<tf.Tensor: shape=(3, 3), dtype=float32, numpy=\n",
              "array([[-0.32123706, -0.532803  , -0.66806126],\n",
              "       [-0.42844605, -0.6219846 , -0.72393286],\n",
              "       [-0.42844605, -0.6219846 , -0.72393286]], dtype=float32)>"
            ]
          },
          "metadata": {
            "tags": []
          },
          "execution_count": 86
        }
      ]
    },
    {
      "cell_type": "code",
      "metadata": {
        "id": "si-yiiTPqFZT",
        "colab_type": "code",
        "colab": {}
      },
      "source": [
        "class MaskConv2D(Conv2D):\n",
        "    def __init__(self, *args, mask_type = 'A', **kwargs):\n",
        "        super().__init__(*args, **kwargs)\n",
        "        self.mask = None\n",
        "        self.mask_t = mask_type\n",
        "\n",
        "    def build(self, input_shape):\n",
        "        super().build(input_shape)\n",
        "        filter_height, filter_width, filters_input, filters_output = self.kernel.shape\n",
        "        self.mask = np.ones(self.kernel.shape).astype('f')\n",
        "        yc, xc = filter_height // 2, filter_width // 2\n",
        "        self.mask[yc + 1:,] = 0.0\n",
        "        self.mask[yc, xc + 1:] = 0.0\n",
        "        if self.mask_t == 'A':\n",
        "          self.mask[yc, xc] = 0.0\n",
        "    def call(self, x):\n",
        "        outputs = tf.keras.backend.conv2d(x, self.kernel * self.mask, strides=self.strides, padding=self.padding)\n",
        "        if self.use_bias:\n",
        "            outputs = tf.keras.backend.bias_add(\n",
        "                outputs,\n",
        "                self.bias,\n",
        "                data_format=self.data_format)\n",
        "        return outputs\n",
        "\n",
        "    def get_config(self):\n",
        "        return dict(list(super().get_config().items()))"
      ],
      "execution_count": null,
      "outputs": []
    },
    {
      "cell_type": "code",
      "metadata": {
        "id": "hgHacZ_vtRzG",
        "colab_type": "code",
        "colab": {}
      },
      "source": [
        "class myConvLSTM2DCell(ConvLSTM2DCell):\n",
        "    def __init__(self, *args, **kwargs):\n",
        "      super().__init__(*args, **kwargs)\n",
        "      self.mask_input = None\n",
        "    def build(self, input_shape):\n",
        "        super().build(input_shape)\n",
        "        # print(self.kernel.shape)\n",
        "        self.mask = np.ones(self.kernel.shape)\n",
        "        row, cols, inp, out = self.kernel.shape\n",
        "        self.mask[:, cols//2 + 1:, :, :] = 0.0\n",
        "\n",
        "    def call(self, inputs, states, training=None):\n",
        "      h_tm1 = states[0]  # previous memory state\n",
        "      c_tm1 = states[1]  # previous carry state\n",
        "\n",
        "      # dropout matrices for input units\n",
        "      dp_mask = self.get_dropout_mask_for_cell(inputs, training, count=4)\n",
        "      # dropout matrices for recurrent units\n",
        "      rec_dp_mask = self.get_recurrent_dropout_mask_for_cell(\n",
        "          h_tm1, training, count=4)\n",
        "\n",
        "      if 0 < self.dropout < 1.:\n",
        "        inputs_i = inputs * dp_mask[0]\n",
        "        inputs_f = inputs * dp_mask[1]\n",
        "        inputs_c = inputs * dp_mask[2]\n",
        "        inputs_o = inputs * dp_mask[3]\n",
        "      else:\n",
        "        inputs_i = inputs\n",
        "        inputs_f = inputs\n",
        "        inputs_c = inputs\n",
        "        inputs_o = inputs\n",
        "\n",
        "      if 0 < self.recurrent_dropout < 1.:\n",
        "        h_tm1_i = h_tm1 * rec_dp_mask[0]\n",
        "        h_tm1_f = h_tm1 * rec_dp_mask[1]\n",
        "        h_tm1_c = h_tm1 * rec_dp_mask[2]\n",
        "        h_tm1_o = h_tm1 * rec_dp_mask[3]\n",
        "      else:\n",
        "        h_tm1_i = h_tm1\n",
        "        h_tm1_f = h_tm1\n",
        "        h_tm1_c = h_tm1\n",
        "        h_tm1_o = h_tm1\n",
        "\n",
        "      (kernel_i, kernel_f,\n",
        "      kernel_c, kernel_o) = array_ops.split(self.kernel * self.mask, 4, axis=3)\n",
        "      (recurrent_kernel_i,\n",
        "      recurrent_kernel_f,\n",
        "      recurrent_kernel_c,\n",
        "      recurrent_kernel_o) = array_ops.split(self.recurrent_kernel, 4, axis=3)\n",
        "\n",
        "      if self.use_bias:\n",
        "        bias_i, bias_f, bias_c, bias_o = array_ops.split(self.bias, 4)\n",
        "      else:\n",
        "        bias_i, bias_f, bias_c, bias_o = None, None, None, None\n",
        "\n",
        "      x_i = self.input_conv(inputs_i, kernel_i, bias_i, padding=self.padding)\n",
        "      x_f = self.input_conv(inputs_f, kernel_f, bias_f, padding=self.padding)\n",
        "      x_c = self.input_conv(inputs_c, kernel_c, bias_c, padding=self.padding)\n",
        "      x_o = self.input_conv(inputs_o, kernel_o, bias_o, padding=self.padding)\n",
        "      h_i = self.recurrent_conv(h_tm1_i, recurrent_kernel_i)\n",
        "      h_f = self.recurrent_conv(h_tm1_f, recurrent_kernel_f)\n",
        "      h_c = self.recurrent_conv(h_tm1_c, recurrent_kernel_c)\n",
        "      h_o = self.recurrent_conv(h_tm1_o, recurrent_kernel_o)\n",
        "\n",
        "      i = self.recurrent_activation(x_i + h_i)\n",
        "      f = self.recurrent_activation(x_f + h_f)\n",
        "      c = f * c_tm1 + i * self.activation(x_c + h_c)\n",
        "      o = self.recurrent_activation(x_o + h_o)\n",
        "      h = o * self.activation(c)\n",
        "      return h, [h, c]\n",
        "\n",
        "\n",
        "    def input_conv(self, x, w, b=None, padding='valid'):\n",
        "        conv_out = K.conv2d(x, w, strides=self.strides,\n",
        "                            padding=padding,\n",
        "                            data_format=self.data_format,\n",
        "                            dilation_rate=self.dilation_rate)\n",
        "        if b is not None:\n",
        "            conv_out = K.bias_add(conv_out, b,\n",
        "                                  data_format=self.data_format)\n",
        "        return conv_out\n",
        "\n",
        "    def recurrent_conv(self, x, w):\n",
        "        conv_out = K.conv2d(x, w, strides=(1, 1),\n",
        "                            padding='same',\n",
        "                            data_format=self.data_format)\n",
        "        return conv_out\n",
        "\n",
        "    def get_config(self):\n",
        "        config = {'filters': self.filters,\n",
        "                  'kernel_size': self.kernel_size,\n",
        "                  'strides': self.strides,\n",
        "                  'padding': self.padding,\n",
        "                  'data_format': self.data_format,\n",
        "                  'dilation_rate': self.dilation_rate,\n",
        "                  'activation': activations.serialize(self.activation),\n",
        "                  'recurrent_activation':\n",
        "                      activations.serialize(self.recurrent_activation),\n",
        "                  'use_bias': self.use_bias,\n",
        "                  'kernel_initializer':\n",
        "                      initializers.serialize(self.kernel_initializer),\n",
        "                  'recurrent_initializer':\n",
        "                      initializers.serialize(self.recurrent_initializer),\n",
        "                  'bias_initializer': initializers.serialize(self.bias_initializer),\n",
        "                  'unit_forget_bias': self.unit_forget_bias,\n",
        "                  'kernel_regularizer':\n",
        "                      regularizers.serialize(self.kernel_regularizer),\n",
        "                  'recurrent_regularizer':\n",
        "                      regularizers.serialize(self.recurrent_regularizer),\n",
        "                  'bias_regularizer': regularizers.serialize(self.bias_regularizer),\n",
        "                  'kernel_constraint':\n",
        "                      constraints.serialize(self.kernel_constraint),\n",
        "                  'recurrent_constraint':\n",
        "                      constraints.serialize(self.recurrent_constraint),\n",
        "                  'bias_constraint': constraints.serialize(self.bias_constraint),\n",
        "                  'dropout': self.dropout,\n",
        "                  'recurrent_dropout': self.recurrent_dropout}\n",
        "        base_config = super(ConvLSTM2DCell, self).get_config()\n",
        "        return dict(list(base_config.items()) + list(config.items()))"
      ],
      "execution_count": null,
      "outputs": []
    },
    {
      "cell_type": "code",
      "metadata": {
        "id": "ubq_eWRsKGd0",
        "colab_type": "code",
        "colab": {}
      },
      "source": [
        "@keras_export('keras.layers.ConvLSTM2D')\n",
        "class myConvLSTM2D(ConvRNN2D):\n",
        "\n",
        "  def __init__(self,\n",
        "               filters,\n",
        "               kernel_size,\n",
        "               strides=(1, 1),\n",
        "               padding='valid',\n",
        "               data_format=None,\n",
        "               dilation_rate=(1, 1),\n",
        "               activation='tanh',\n",
        "               recurrent_activation='hard_sigmoid',\n",
        "               use_bias=True,\n",
        "               kernel_initializer='glorot_uniform',\n",
        "               recurrent_initializer='orthogonal',\n",
        "               bias_initializer='zeros',\n",
        "               unit_forget_bias=True,\n",
        "               kernel_regularizer=None,\n",
        "               recurrent_regularizer=None,\n",
        "               bias_regularizer=None,\n",
        "               activity_regularizer=None,\n",
        "               kernel_constraint=None,\n",
        "               recurrent_constraint=None,\n",
        "               bias_constraint=None,\n",
        "               return_sequences=False,\n",
        "               go_backwards=False,\n",
        "               stateful=False,\n",
        "               dropout=0.,\n",
        "               recurrent_dropout=0.,\n",
        "               **kwargs):\n",
        "    cell = myConvLSTM2DCell(filters=filters,\n",
        "                          kernel_size=kernel_size,\n",
        "                          strides=strides,\n",
        "                          padding=padding,\n",
        "                          data_format=data_format,\n",
        "                          dilation_rate=dilation_rate,\n",
        "                          activation=activation,\n",
        "                          recurrent_activation=recurrent_activation,\n",
        "                          use_bias=use_bias,\n",
        "                          kernel_initializer=kernel_initializer,\n",
        "                          recurrent_initializer=recurrent_initializer,\n",
        "                          bias_initializer=bias_initializer,\n",
        "                          unit_forget_bias=unit_forget_bias,\n",
        "                          kernel_regularizer=kernel_regularizer,\n",
        "                          recurrent_regularizer=recurrent_regularizer,\n",
        "                          bias_regularizer=bias_regularizer,\n",
        "                          kernel_constraint=kernel_constraint,\n",
        "                          recurrent_constraint=recurrent_constraint,\n",
        "                          bias_constraint=bias_constraint,\n",
        "                          dropout=dropout,\n",
        "                          recurrent_dropout=recurrent_dropout,\n",
        "                          dtype=kwargs.get('dtype'))\n",
        "    super(myConvLSTM2D, self).__init__(cell,\n",
        "                                     return_sequences=return_sequences,\n",
        "                                     go_backwards=go_backwards,\n",
        "                                     stateful=stateful,\n",
        "                                     **kwargs)\n",
        "    self.activity_regularizer = regularizers.get(activity_regularizer)\n",
        "\n",
        "  def call(self, inputs, mask=None, training=None, initial_state=None):\n",
        "    self._maybe_reset_cell_dropout_mask(self.cell)\n",
        "    return super(myConvLSTM2D, self).call(inputs,\n",
        "                                        mask=mask,\n",
        "                                        training=training,\n",
        "                                        initial_state=initial_state)\n",
        "\n",
        "  @property\n",
        "  def filters(self):\n",
        "    return self.cell.filters\n",
        "\n",
        "  @property\n",
        "  def kernel_size(self):\n",
        "    return self.cell.kernel_size\n",
        "\n",
        "  @property\n",
        "  def strides(self):\n",
        "    return self.cell.strides\n",
        "\n",
        "  @property\n",
        "  def padding(self):\n",
        "    return self.cell.padding\n",
        "\n",
        "  @property\n",
        "  def data_format(self):\n",
        "    return self.cell.data_format\n",
        "\n",
        "  @property\n",
        "  def dilation_rate(self):\n",
        "    return self.cell.dilation_rate\n",
        "\n",
        "  @property\n",
        "  def activation(self):\n",
        "    return self.cell.activation\n",
        "\n",
        "  @property\n",
        "  def recurrent_activation(self):\n",
        "    return self.cell.recurrent_activation\n",
        "\n",
        "  @property\n",
        "  def use_bias(self):\n",
        "    return self.cell.use_bias\n",
        "\n",
        "  @property\n",
        "  def kernel_initializer(self):\n",
        "    return self.cell.kernel_initializer\n",
        "\n",
        "  @property\n",
        "  def recurrent_initializer(self):\n",
        "    return self.cell.recurrent_initializer\n",
        "\n",
        "  @property\n",
        "  def bias_initializer(self):\n",
        "    return self.cell.bias_initializer\n",
        "\n",
        "  @property\n",
        "  def unit_forget_bias(self):\n",
        "    return self.cell.unit_forget_bias\n",
        "\n",
        "  @property\n",
        "  def kernel_regularizer(self):\n",
        "    return self.cell.kernel_regularizer\n",
        "\n",
        "  @property\n",
        "  def recurrent_regularizer(self):\n",
        "    return self.cell.recurrent_regularizer\n",
        "\n",
        "  @property\n",
        "  def bias_regularizer(self):\n",
        "    return self.cell.bias_regularizer\n",
        "\n",
        "  @property\n",
        "  def kernel_constraint(self):\n",
        "    return self.cell.kernel_constraint\n",
        "\n",
        "  @property\n",
        "  def recurrent_constraint(self):\n",
        "    return self.cell.recurrent_constraint\n",
        "\n",
        "  @property\n",
        "  def bias_constraint(self):\n",
        "    return self.cell.bias_constraint\n",
        "\n",
        "  @property\n",
        "  def dropout(self):\n",
        "    return self.cell.dropout\n",
        "\n",
        "  @property\n",
        "  def recurrent_dropout(self):\n",
        "    return self.cell.recurrent_dropout\n",
        "\n",
        "  def get_config(self):\n",
        "    config = {'filters': self.filters,\n",
        "              'kernel_size': self.kernel_size,\n",
        "              'strides': self.strides,\n",
        "              'padding': self.padding,\n",
        "              'data_format': self.data_format,\n",
        "              'dilation_rate': self.dilation_rate,\n",
        "              'activation': activations.serialize(self.activation),\n",
        "              'recurrent_activation': activations.serialize(\n",
        "                  self.recurrent_activation),\n",
        "              'use_bias': self.use_bias,\n",
        "              'kernel_initializer': initializers.serialize(\n",
        "                  self.kernel_initializer),\n",
        "              'recurrent_initializer': initializers.serialize(\n",
        "                  self.recurrent_initializer),\n",
        "              'bias_initializer': initializers.serialize(self.bias_initializer),\n",
        "              'unit_forget_bias': self.unit_forget_bias,\n",
        "              'kernel_regularizer': regularizers.serialize(\n",
        "                  self.kernel_regularizer),\n",
        "              'recurrent_regularizer': regularizers.serialize(\n",
        "                  self.recurrent_regularizer),\n",
        "              'bias_regularizer': regularizers.serialize(self.bias_regularizer),\n",
        "              'activity_regularizer': regularizers.serialize(\n",
        "                  self.activity_regularizer),\n",
        "              'kernel_constraint': constraints.serialize(\n",
        "                  self.kernel_constraint),\n",
        "              'recurrent_constraint': constraints.serialize(\n",
        "                  self.recurrent_constraint),\n",
        "              'bias_constraint': constraints.serialize(self.bias_constraint),\n",
        "              'dropout': self.dropout,\n",
        "              'recurrent_dropout': self.recurrent_dropout}\n",
        "    base_config = super(ConvLSTM2D, self).get_config()\n",
        "    del base_config['cell']\n",
        "    return dict(list(base_config.items()) + list(config.items()))\n",
        "\n",
        "  @classmethod\n",
        "  def from_config(cls, config):\n",
        "    return cls(**config)"
      ],
      "execution_count": null,
      "outputs": []
    },
    {
      "cell_type": "code",
      "metadata": {
        "id": "5rNR4vnvzrWV",
        "colab_type": "code",
        "colab": {}
      },
      "source": [
        "def ResBlockRnn(input_):\n",
        "  b, row, cols, ch = input_.shape\n",
        "  model = tf.reshape(input_, [-1, row, 1, cols, ch])\n",
        "\n",
        "  model = myConvLSTM2D(8, padding='same', kernel_size=(1,3), return_sequences=True)(model)\n",
        "\n",
        "  b, row, r, cols, ch = model.shape\n",
        "  model = tf.reshape(model, [-1, row, cols, ch])\n",
        "\n",
        "  model = MaskConv2D(16, (1, 1), padding='same', mask_type='B')(model)\n",
        "  model = Add()([input_, model])\n",
        "  return model"
      ],
      "execution_count": null,
      "outputs": []
    },
    {
      "cell_type": "code",
      "metadata": {
        "id": "Il131x5T3SnP",
        "colab_type": "code",
        "colab": {}
      },
      "source": [
        "tf.keras.backend.clear_session()"
      ],
      "execution_count": null,
      "outputs": []
    },
    {
      "cell_type": "code",
      "metadata": {
        "id": "We_bnqI4BaGu",
        "colab_type": "code",
        "colab": {}
      },
      "source": [
        "inputs = Input((28, 28, 1))\n",
        "model = MaskConv2D(16, (3,3), padding='same')(inputs)\n",
        "\n",
        "for i in range(7):\n",
        "  model = ResBlockRnn(model)\n",
        "\n",
        "model = MaskConv2D(16, (1,1), padding='same', mask_type='B')(model)\n",
        "model = ReLU()(model)\n",
        "\n",
        "model = MaskConv2D(1, (1,1), padding='same', mask_type='B')(model)\n",
        "outputs = Activation('sigmoid')(model)\n",
        "\n",
        "model = keras.Model(inputs, outputs)"
      ],
      "execution_count": null,
      "outputs": []
    },
    {
      "cell_type": "code",
      "metadata": {
        "id": "kE-8wAhp2G7s",
        "colab_type": "code",
        "colab": {
          "base_uri": "https://localhost:8080/",
          "height": 1000
        },
        "outputId": "802931d0-c27d-4ec5-82f9-abd692ffb8fa"
      },
      "source": [
        "model.compile(loss=\"binary_crossentropy\", optimizer=\"adam\")\n",
        "print(model.summary())"
      ],
      "execution_count": null,
      "outputs": [
        {
          "output_type": "stream",
          "text": [
            "Model: \"model\"\n",
            "__________________________________________________________________________________________________\n",
            "Layer (type)                    Output Shape         Param #     Connected to                     \n",
            "==================================================================================================\n",
            "input_1 (InputLayer)            [(None, 28, 28, 1)]  0                                            \n",
            "__________________________________________________________________________________________________\n",
            "mask_conv2d (MaskConv2D)        (None, 28, 28, 16)   160         input_1[0][0]                    \n",
            "__________________________________________________________________________________________________\n",
            "tf_op_layer_Reshape (TensorFlow [(None, 28, 1, 28, 1 0           mask_conv2d[0][0]                \n",
            "__________________________________________________________________________________________________\n",
            "my_conv_lst_m2d (myConvLSTM2D)  (None, 28, 1, 28, 8) 2336        tf_op_layer_Reshape[0][0]        \n",
            "__________________________________________________________________________________________________\n",
            "tf_op_layer_Reshape_1 (TensorFl [(None, 28, 28, 8)]  0           my_conv_lst_m2d[0][0]            \n",
            "__________________________________________________________________________________________________\n",
            "mask_conv2d_1 (MaskConv2D)      (None, 28, 28, 16)   144         tf_op_layer_Reshape_1[0][0]      \n",
            "__________________________________________________________________________________________________\n",
            "add (Add)                       (None, 28, 28, 16)   0           mask_conv2d[0][0]                \n",
            "                                                                 mask_conv2d_1[0][0]              \n",
            "__________________________________________________________________________________________________\n",
            "tf_op_layer_Reshape_2 (TensorFl [(None, 28, 1, 28, 1 0           add[0][0]                        \n",
            "__________________________________________________________________________________________________\n",
            "my_conv_lst_m2d_1 (myConvLSTM2D (None, 28, 1, 28, 8) 2336        tf_op_layer_Reshape_2[0][0]      \n",
            "__________________________________________________________________________________________________\n",
            "tf_op_layer_Reshape_3 (TensorFl [(None, 28, 28, 8)]  0           my_conv_lst_m2d_1[0][0]          \n",
            "__________________________________________________________________________________________________\n",
            "mask_conv2d_2 (MaskConv2D)      (None, 28, 28, 16)   144         tf_op_layer_Reshape_3[0][0]      \n",
            "__________________________________________________________________________________________________\n",
            "add_1 (Add)                     (None, 28, 28, 16)   0           add[0][0]                        \n",
            "                                                                 mask_conv2d_2[0][0]              \n",
            "__________________________________________________________________________________________________\n",
            "tf_op_layer_Reshape_4 (TensorFl [(None, 28, 1, 28, 1 0           add_1[0][0]                      \n",
            "__________________________________________________________________________________________________\n",
            "my_conv_lst_m2d_2 (myConvLSTM2D (None, 28, 1, 28, 8) 2336        tf_op_layer_Reshape_4[0][0]      \n",
            "__________________________________________________________________________________________________\n",
            "tf_op_layer_Reshape_5 (TensorFl [(None, 28, 28, 8)]  0           my_conv_lst_m2d_2[0][0]          \n",
            "__________________________________________________________________________________________________\n",
            "mask_conv2d_3 (MaskConv2D)      (None, 28, 28, 16)   144         tf_op_layer_Reshape_5[0][0]      \n",
            "__________________________________________________________________________________________________\n",
            "add_2 (Add)                     (None, 28, 28, 16)   0           add_1[0][0]                      \n",
            "                                                                 mask_conv2d_3[0][0]              \n",
            "__________________________________________________________________________________________________\n",
            "tf_op_layer_Reshape_6 (TensorFl [(None, 28, 1, 28, 1 0           add_2[0][0]                      \n",
            "__________________________________________________________________________________________________\n",
            "my_conv_lst_m2d_3 (myConvLSTM2D (None, 28, 1, 28, 8) 2336        tf_op_layer_Reshape_6[0][0]      \n",
            "__________________________________________________________________________________________________\n",
            "tf_op_layer_Reshape_7 (TensorFl [(None, 28, 28, 8)]  0           my_conv_lst_m2d_3[0][0]          \n",
            "__________________________________________________________________________________________________\n",
            "mask_conv2d_4 (MaskConv2D)      (None, 28, 28, 16)   144         tf_op_layer_Reshape_7[0][0]      \n",
            "__________________________________________________________________________________________________\n",
            "add_3 (Add)                     (None, 28, 28, 16)   0           add_2[0][0]                      \n",
            "                                                                 mask_conv2d_4[0][0]              \n",
            "__________________________________________________________________________________________________\n",
            "tf_op_layer_Reshape_8 (TensorFl [(None, 28, 1, 28, 1 0           add_3[0][0]                      \n",
            "__________________________________________________________________________________________________\n",
            "my_conv_lst_m2d_4 (myConvLSTM2D (None, 28, 1, 28, 8) 2336        tf_op_layer_Reshape_8[0][0]      \n",
            "__________________________________________________________________________________________________\n",
            "tf_op_layer_Reshape_9 (TensorFl [(None, 28, 28, 8)]  0           my_conv_lst_m2d_4[0][0]          \n",
            "__________________________________________________________________________________________________\n",
            "mask_conv2d_5 (MaskConv2D)      (None, 28, 28, 16)   144         tf_op_layer_Reshape_9[0][0]      \n",
            "__________________________________________________________________________________________________\n",
            "add_4 (Add)                     (None, 28, 28, 16)   0           add_3[0][0]                      \n",
            "                                                                 mask_conv2d_5[0][0]              \n",
            "__________________________________________________________________________________________________\n",
            "tf_op_layer_Reshape_10 (TensorF [(None, 28, 1, 28, 1 0           add_4[0][0]                      \n",
            "__________________________________________________________________________________________________\n",
            "my_conv_lst_m2d_5 (myConvLSTM2D (None, 28, 1, 28, 8) 2336        tf_op_layer_Reshape_10[0][0]     \n",
            "__________________________________________________________________________________________________\n",
            "tf_op_layer_Reshape_11 (TensorF [(None, 28, 28, 8)]  0           my_conv_lst_m2d_5[0][0]          \n",
            "__________________________________________________________________________________________________\n",
            "mask_conv2d_6 (MaskConv2D)      (None, 28, 28, 16)   144         tf_op_layer_Reshape_11[0][0]     \n",
            "__________________________________________________________________________________________________\n",
            "add_5 (Add)                     (None, 28, 28, 16)   0           add_4[0][0]                      \n",
            "                                                                 mask_conv2d_6[0][0]              \n",
            "__________________________________________________________________________________________________\n",
            "tf_op_layer_Reshape_12 (TensorF [(None, 28, 1, 28, 1 0           add_5[0][0]                      \n",
            "__________________________________________________________________________________________________\n",
            "my_conv_lst_m2d_6 (myConvLSTM2D (None, 28, 1, 28, 8) 2336        tf_op_layer_Reshape_12[0][0]     \n",
            "__________________________________________________________________________________________________\n",
            "tf_op_layer_Reshape_13 (TensorF [(None, 28, 28, 8)]  0           my_conv_lst_m2d_6[0][0]          \n",
            "__________________________________________________________________________________________________\n",
            "mask_conv2d_7 (MaskConv2D)      (None, 28, 28, 16)   144         tf_op_layer_Reshape_13[0][0]     \n",
            "__________________________________________________________________________________________________\n",
            "add_6 (Add)                     (None, 28, 28, 16)   0           add_5[0][0]                      \n",
            "                                                                 mask_conv2d_7[0][0]              \n",
            "__________________________________________________________________________________________________\n",
            "mask_conv2d_8 (MaskConv2D)      (None, 28, 28, 16)   272         add_6[0][0]                      \n",
            "__________________________________________________________________________________________________\n",
            "re_lu (ReLU)                    (None, 28, 28, 16)   0           mask_conv2d_8[0][0]              \n",
            "__________________________________________________________________________________________________\n",
            "mask_conv2d_9 (MaskConv2D)      (None, 28, 28, 1)    17          re_lu[0][0]                      \n",
            "__________________________________________________________________________________________________\n",
            "activation (Activation)         (None, 28, 28, 1)    0           mask_conv2d_9[0][0]              \n",
            "==================================================================================================\n",
            "Total params: 17,809\n",
            "Trainable params: 17,809\n",
            "Non-trainable params: 0\n",
            "__________________________________________________________________________________________________\n",
            "None\n"
          ],
          "name": "stdout"
        }
      ]
    },
    {
      "cell_type": "code",
      "metadata": {
        "id": "giK7Q2A32U2i",
        "colab_type": "code",
        "colab": {
          "base_uri": "https://localhost:8080/",
          "height": 317
        },
        "outputId": "2b35536f-7700-4fc4-b412-5d9af4c84d74"
      },
      "source": [
        "(X_train, y_train), (X_test, Y_test) = tf.keras.datasets.mnist.load_data(path=\"mnist.npz\")\n",
        "data = np.concatenate((X_train, X_test), axis=0)\n",
        "data = data.astype('float32')\n",
        "data /= 255\n",
        "data = np.around(1 - data)\n",
        "data = data.reshape(data.shape[0], 28, 28, 1)\n",
        "plt.imshow(data[0, :, :, 0], cmap='Greys')"
      ],
      "execution_count": null,
      "outputs": [
        {
          "output_type": "stream",
          "text": [
            "Downloading data from https://storage.googleapis.com/tensorflow/tf-keras-datasets/mnist.npz\n",
            "11493376/11490434 [==============================] - 0s 0us/step\n"
          ],
          "name": "stdout"
        },
        {
          "output_type": "execute_result",
          "data": {
            "text/plain": [
              "<matplotlib.image.AxesImage at 0x7f59b1b34080>"
            ]
          },
          "metadata": {
            "tags": []
          },
          "execution_count": 10
        },
        {
          "output_type": "display_data",
          "data": {
            "image/png": "[encoded data removed]",
            "text/plain": [
              "<Figure size 432x288 with 1 Axes>"
            ]
          },
          "metadata": {
            "tags": [],
            "needs_background": "light"
          }
        }
      ]
    },
    {
      "cell_type": "code",
      "metadata": {
        "id": "xrwd_KV72Kks",
        "colab_type": "code",
        "colab": {
          "base_uri": "https://localhost:8080/",
          "height": 390
        },
        "outputId": "403bdd83-c7d2-46c5-f94e-b163e8a1317f"
      },
      "source": [
        "model.fit(data, data,\n",
        "      batch_size=32, epochs=10)"
      ],
      "execution_count": null,
      "outputs": [
        {
          "output_type": "stream",
          "text": [
            "Epoch 1/10\n",
            "2188/2188 [==============================] - 2002s 915ms/step - loss: 0.1096\n",
            "Epoch 2/10\n",
            "2188/2188 [==============================] - 1977s 904ms/step - loss: 0.0939\n",
            "Epoch 3/10\n",
            "2188/2188 [==============================] - 2086s 954ms/step - loss: 0.0909\n",
            "Epoch 4/10\n",
            "2188/2188 [==============================] - 2034s 930ms/step - loss: 0.0894\n",
            "Epoch 5/10\n",
            "2188/2188 [==============================] - 1960s 896ms/step - loss: 0.0882\n",
            "Epoch 6/10\n",
            "2188/2188 [==============================] - 1967s 899ms/step - loss: 0.0873\n",
            "Epoch 7/10\n",
            "2188/2188 [==============================] - 1952s 892ms/step - loss: 0.0866\n",
            "Epoch 8/10\n",
            "2188/2188 [==============================] - 1955s 893ms/step - loss: 0.0859\n",
            "Epoch 9/10\n",
            "2188/2188 [==============================] - 1952s 892ms/step - loss: 0.0854\n",
            "Epoch 10/10\n",
            "2188/2188 [==============================] - 1947s 890ms/step - loss: 0.0850\n"
          ],
          "name": "stdout"
        },
        {
          "output_type": "execute_result",
          "data": {
            "text/plain": [
              "<tensorflow.python.keras.callbacks.History at 0x7f59aae9c7b8>"
            ]
          },
          "metadata": {
            "tags": []
          },
          "execution_count": 18
        }
      ]
    },
    {
      "cell_type": "code",
      "metadata": {
        "id": "azltWhs02NJy",
        "colab_type": "code",
        "colab": {}
      },
      "source": [
        "pixels_new = np.zeros((1, 28, 28, 1))\n",
        "b, rows, cols, chan = pixels_new.shape\n",
        "for row in range(rows):\n",
        "    for col in range(cols):\n",
        "        predict = model.predict(pixels_new)\n",
        "        p = predict[0, row, col, 0]\n",
        "        pixels_new[0][row][col][0] = np.random.choice([0, 1], p=[1 - p, p])"
      ],
      "execution_count": null,
      "outputs": []
    },
    {
      "cell_type": "code",
      "metadata": {
        "id": "uFTq-JzQ2PeF",
        "colab_type": "code",
        "colab": {
          "base_uri": "https://localhost:8080/",
          "height": 282
        },
        "outputId": "aafa4933-332c-45cc-998d-2b424df25226"
      },
      "source": [
        "plt.imshow(pixels_new[0, :, :, 0], cmap='Greys')"
      ],
      "execution_count": null,
      "outputs": [
        {
          "output_type": "execute_result",
          "data": {
            "text/plain": [
              "<matplotlib.image.AxesImage at 0x7f5920438a20>"
            ]
          },
          "metadata": {
            "tags": []
          },
          "execution_count": 26
        },
        {
          "output_type": "display_data",
          "data": {
            "image/png": "[encoded data removed]",
            "text/plain": [
              "<Figure size 432x288 with 1 Axes>"
            ]
          },
          "metadata": {
            "tags": [],
            "needs_background": "light"
          }
        }
      ]
    },
    {
      "cell_type": "code",
      "metadata": {
        "id": "hFJj_9zCCc16",
        "colab_type": "code",
        "colab": {}
      },
      "source": [
        "z = np.ones((2, 3, 3, 2))"
      ],
      "execution_count": null,
      "outputs": []
    },
    {
      "cell_type": "code",
      "metadata": {
        "id": "V2vgEuL0CmbQ",
        "colab_type": "code",
        "colab": {}
      },
      "source": [
        "z[:,:,:,1] = 3.4"
      ],
      "execution_count": null,
      "outputs": []
    },
    {
      "cell_type": "code",
      "metadata": {
        "id": "WA2IbLoWStlq",
        "colab_type": "code",
        "colab": {
          "base_uri": "https://localhost:8080/",
          "height": 141
        },
        "outputId": "4a3942b3-3a50-4627-bbb1-5103e9f8e53b"
      },
      "source": [
        "z[:,:,:,0]"
      ],
      "execution_count": null,
      "outputs": [
        {
          "output_type": "execute_result",
          "data": {
            "text/plain": [
              "array([[[1., 1., 1.],\n",
              "        [1., 1., 1.],\n",
              "        [1., 1., 1.]],\n",
              "\n",
              "       [[1., 1., 1.],\n",
              "        [1., 1., 1.],\n",
              "        [1., 1., 1.]]])"
            ]
          },
          "metadata": {
            "tags": []
          },
          "execution_count": 32
        }
      ]
    },
    {
      "cell_type": "code",
      "metadata": {
        "id": "tIFeImKUe9bp",
        "colab_type": "code",
        "colab": {
          "base_uri": "https://localhost:8080/",
          "height": 443
        },
        "outputId": "7adfd746-c9c2-49d4-b8c5-87ad22873470"
      },
      "source": [
        "z[:, :, :]"
      ],
      "execution_count": null,
      "outputs": [
        {
          "output_type": "execute_result",
          "data": {
            "text/plain": [
              "array([[[[1. , 3.4],\n",
              "         [1. , 3.4],\n",
              "         [1. , 3.4]],\n",
              "\n",
              "        [[1. , 3.4],\n",
              "         [1. , 3.4],\n",
              "         [1. , 3.4]],\n",
              "\n",
              "        [[1. , 3.4],\n",
              "         [1. , 3.4],\n",
              "         [1. , 3.4]]],\n",
              "\n",
              "\n",
              "       [[[1. , 3.4],\n",
              "         [1. , 3.4],\n",
              "         [1. , 3.4]],\n",
              "\n",
              "        [[1. , 3.4],\n",
              "         [1. , 3.4],\n",
              "         [1. , 3.4]],\n",
              "\n",
              "        [[1. , 3.4],\n",
              "         [1. , 3.4],\n",
              "         [1. , 3.4]]]])"
            ]
          },
          "metadata": {
            "tags": []
          },
          "execution_count": 33
        }
      ]
    },
    {
      "cell_type": "code",
      "metadata": {
        "id": "3epKufXTXF7m",
        "colab_type": "code",
        "colab": {}
      },
      "source": [
        "z_ten = tf.convert_to_tensor(z)\n",
        "b, row, cols, ch = z_ten.shape"
      ],
      "execution_count": null,
      "outputs": []
    },
    {
      "cell_type": "code",
      "metadata": {
        "id": "jUKz4HpBeITV",
        "colab_type": "code",
        "colab": {}
      },
      "source": [
        "zzz = tf.reshape(z_ten, [-1] + list([row, 1, cols, ch]))"
      ],
      "execution_count": null,
      "outputs": []
    },
    {
      "cell_type": "code",
      "metadata": {
        "id": "i6OXPTKfXIjP",
        "colab_type": "code",
        "colab": {
          "base_uri": "https://localhost:8080/",
          "height": 70
        },
        "outputId": "c06b3c3f-2cf4-4723-a1d8-720d36e44bd4"
      },
      "source": [
        "zzz[:, 0, 0, :, 1]"
      ],
      "execution_count": null,
      "outputs": [
        {
          "output_type": "execute_result",
          "data": {
            "text/plain": [
              "<tf.Tensor: shape=(2, 3), dtype=float64, numpy=\n",
              "array([[3.4, 3.4, 3.4],\n",
              "       [3.4, 3.4, 3.4]])>"
            ]
          },
          "metadata": {
            "tags": []
          },
          "execution_count": 46
        }
      ]
    },
    {
      "cell_type": "code",
      "metadata": {
        "id": "AXzGL8TlSwTd",
        "colab_type": "code",
        "colab": {}
      },
      "source": [
        "mask = np.zeros((4,4,3))\n",
        "for i in range(4):\n",
        "    mask[i,i,] = 1"
      ],
      "execution_count": null,
      "outputs": []
    },
    {
      "cell_type": "code",
      "metadata": {
        "id": "IxwzCkUTTO7V",
        "colab_type": "code",
        "colab": {
          "base_uri": "https://localhost:8080/",
          "height": 354
        },
        "outputId": "ef3022c1-a4df-4b2f-9d78-6cc0e0c9e9ce"
      },
      "source": [
        "mask[:, :,]"
      ],
      "execution_count": null,
      "outputs": [
        {
          "output_type": "execute_result",
          "data": {
            "text/plain": [
              "array([[[1., 1., 1.],\n",
              "        [0., 0., 0.],\n",
              "        [0., 0., 0.],\n",
              "        [0., 0., 0.]],\n",
              "\n",
              "       [[0., 0., 0.],\n",
              "        [1., 1., 1.],\n",
              "        [0., 0., 0.],\n",
              "        [0., 0., 0.]],\n",
              "\n",
              "       [[0., 0., 0.],\n",
              "        [0., 0., 0.],\n",
              "        [1., 1., 1.],\n",
              "        [0., 0., 0.]],\n",
              "\n",
              "       [[0., 0., 0.],\n",
              "        [0., 0., 0.],\n",
              "        [0., 0., 0.],\n",
              "        [1., 1., 1.]]])"
            ]
          },
          "metadata": {
            "tags": []
          },
          "execution_count": 492
        }
      ]
    },
    {
      "cell_type": "code",
      "metadata": {
        "id": "nAb-uySNXTO4",
        "colab_type": "code",
        "colab": {}
      },
      "source": [
        "ll = tf.Variable(mask)"
      ],
      "execution_count": null,
      "outputs": []
    },
    {
      "cell_type": "code",
      "metadata": {
        "id": "wZkkIoIQXYZy",
        "colab_type": "code",
        "colab": {
          "base_uri": "https://localhost:8080/",
          "height": 34
        },
        "outputId": "6f0d1dd0-62ef-4201-db40-1fca8ae01cd0"
      },
      "source": [
        "ll.shape"
      ],
      "execution_count": null,
      "outputs": [
        {
          "output_type": "execute_result",
          "data": {
            "text/plain": [
              "TensorShape([4, 4, 3])"
            ]
          },
          "metadata": {
            "tags": []
          },
          "execution_count": 494
        }
      ]
    },
    {
      "cell_type": "code",
      "metadata": {
        "id": "q_tMZ5p5TifO",
        "colab_type": "code",
        "colab": {}
      },
      "source": [
        "res = tf.keras.backend.dot(ll,z_ten)"
      ],
      "execution_count": null,
      "outputs": []
    },
    {
      "cell_type": "code",
      "metadata": {
        "id": "o0QjcJWqZDo4",
        "colab_type": "code",
        "colab": {
          "base_uri": "https://localhost:8080/",
          "height": 34
        },
        "outputId": "d61d9874-1bbe-4d32-f386-67705060fb6e"
      },
      "source": [
        "rr = res.numpy()\n",
        "rr.shape"
      ],
      "execution_count": null,
      "outputs": [
        {
          "output_type": "execute_result",
          "data": {
            "text/plain": [
              "(4, 4, 4, 2)"
            ]
          },
          "metadata": {
            "tags": []
          },
          "execution_count": 496
        }
      ]
    },
    {
      "cell_type": "code",
      "metadata": {
        "id": "4Hyi3IYRZlya",
        "colab_type": "code",
        "colab": {
          "base_uri": "https://localhost:8080/",
          "height": 354
        },
        "outputId": "617c4238-edfe-426f-c9f0-adc001750440"
      },
      "source": [
        "rr[:, :, :, 0]"
      ],
      "execution_count": null,
      "outputs": [
        {
          "output_type": "execute_result",
          "data": {
            "text/plain": [
              "array([[[3., 3., 3., 3.],\n",
              "        [0., 0., 0., 0.],\n",
              "        [0., 0., 0., 0.],\n",
              "        [0., 0., 0., 0.]],\n",
              "\n",
              "       [[0., 0., 0., 0.],\n",
              "        [3., 3., 3., 3.],\n",
              "        [0., 0., 0., 0.],\n",
              "        [0., 0., 0., 0.]],\n",
              "\n",
              "       [[0., 0., 0., 0.],\n",
              "        [0., 0., 0., 0.],\n",
              "        [3., 3., 3., 3.],\n",
              "        [0., 0., 0., 0.]],\n",
              "\n",
              "       [[0., 0., 0., 0.],\n",
              "        [0., 0., 0., 0.],\n",
              "        [0., 0., 0., 0.],\n",
              "        [3., 3., 3., 3.]]])"
            ]
          },
          "metadata": {
            "tags": []
          },
          "execution_count": 498
        }
      ]
    },
    {
      "cell_type": "code",
      "metadata": {
        "id": "uIeuj2NGOcUb",
        "colab_type": "code",
        "colab": {}
      },
      "source": [
        "test_ones = np.ones((2, 3, 3, 2))\n",
        "test_ones[:,:,:,1] = 3.4\n",
        "z_new = tf.convert_to_tensor(test_ones)"
      ],
      "execution_count": null,
      "outputs": []
    },
    {
      "cell_type": "code",
      "metadata": {
        "id": "gGPINNrBkqoe",
        "colab_type": "code",
        "colab": {
          "base_uri": "https://localhost:8080/",
          "height": 443
        },
        "outputId": "c32ce3c6-ae1f-4842-d400-c92ac70beed5"
      },
      "source": [
        "test_ones[:,:,:,:]"
      ],
      "execution_count": null,
      "outputs": [
        {
          "output_type": "execute_result",
          "data": {
            "text/plain": [
              "array([[[[1. , 3.4],\n",
              "         [1. , 3.4],\n",
              "         [1. , 3.4]],\n",
              "\n",
              "        [[1. , 3.4],\n",
              "         [1. , 3.4],\n",
              "         [1. , 3.4]],\n",
              "\n",
              "        [[1. , 3.4],\n",
              "         [1. , 3.4],\n",
              "         [1. , 3.4]]],\n",
              "\n",
              "\n",
              "       [[[1. , 3.4],\n",
              "         [1. , 3.4],\n",
              "         [1. , 3.4]],\n",
              "\n",
              "        [[1. , 3.4],\n",
              "         [1. , 3.4],\n",
              "         [1. , 3.4]],\n",
              "\n",
              "        [[1. , 3.4],\n",
              "         [1. , 3.4],\n",
              "         [1. , 3.4]]]])"
            ]
          },
          "metadata": {
            "tags": []
          },
          "execution_count": 65
        }
      ]
    },
    {
      "cell_type": "code",
      "metadata": {
        "id": "PAYcMrY1I4hM",
        "colab_type": "code",
        "colab": {}
      },
      "source": [
        "tt = tf.reshape(z_new, (2,2,3,3,1)).numpy()"
      ],
      "execution_count": null,
      "outputs": []
    },
    {
      "cell_type": "code",
      "metadata": {
        "id": "1mtEpP_PJD-G",
        "colab_type": "code",
        "colab": {
          "base_uri": "https://localhost:8080/",
          "height": 70
        },
        "outputId": "3bb4deee-720b-4117-d3fb-b257bf520904"
      },
      "source": [
        "tt[0, 1,:,:, 0]"
      ],
      "execution_count": null,
      "outputs": [
        {
          "output_type": "execute_result",
          "data": {
            "text/plain": [
              "array([[3.4, 1. , 3.4],\n",
              "       [1. , 3.4, 1. ],\n",
              "       [3.4, 1. , 3.4]])"
            ]
          },
          "metadata": {
            "tags": []
          },
          "execution_count": 8
        }
      ]
    },
    {
      "cell_type": "code",
      "metadata": {
        "id": "bJpWQKDqRmNf",
        "colab_type": "code",
        "colab": {}
      },
      "source": [
        "mask_new = np.zeros((3, 3, 3))\n",
        "for i in range(3):\n",
        "    mask_new[i, i, i] = 1\n",
        "ll_new = tf.Variable(mask_new)"
      ],
      "execution_count": null,
      "outputs": []
    },
    {
      "cell_type": "code",
      "metadata": {
        "id": "Zwci7MIGr-gq",
        "colab_type": "code",
        "colab": {}
      },
      "source": [
        "nnn = np.zeros((2, 3, 3, 3, 4))"
      ],
      "execution_count": null,
      "outputs": []
    },
    {
      "cell_type": "code",
      "metadata": {
        "id": "lUmUy5sTsRiK",
        "colab_type": "code",
        "colab": {}
      },
      "source": [
        "for i in range(z_new.shape[0]):\n",
        "  nnn[i,] = tf.keras.backend.dot(ll, z_new[i]).numpy()"
      ],
      "execution_count": null,
      "outputs": []
    },
    {
      "cell_type": "code",
      "metadata": {
        "id": "L3_DARLoQhMd",
        "colab_type": "code",
        "colab": {}
      },
      "source": [
        "def rev5d(inputs):\n",
        "  batch, row, col, channel = inputs.shape\n",
        "  mask = np.zeros((col, channel, channel))\n",
        "  for i in range(channel):\n",
        "    mask[:, i, i] = 1.0\n",
        "  ll_new = tf.Variable(mask, dtype='float32')\n",
        "  res_new = tf.keras.backend.dot(inputs, ll_new)\n",
        "  # zer = tf.Variable()\n",
        "  zer = np.zeros(res_new.shape)\n",
        "  for i in range(row):\n",
        "    zer[:, i, i, :, :] = 1.0\n",
        "  zer = tf.Variable(zer, dtype='float32')\n",
        "  return res_new"
      ],
      "execution_count": null,
      "outputs": []
    },
    {
      "cell_type": "code",
      "metadata": {
        "id": "6tct5KfGRlQQ",
        "colab_type": "code",
        "colab": {
          "base_uri": "https://localhost:8080/",
          "height": 34
        },
        "outputId": "a4d85426-b865-4d18-d97c-b661ab890bef"
      },
      "source": [
        "i = Input((3, 3, 4), batch_size=32)\n",
        "m = Conv2D(2, (3, 3), padding='same')(i)\n",
        "rev5d(m)"
      ],
      "execution_count": null,
      "outputs": [
        {
          "output_type": "execute_result",
          "data": {
            "text/plain": [
              "<tf.Tensor 'Mul_2:0' shape=(32, 3, 3, 3, 2) dtype=float32>"
            ]
          },
          "metadata": {
            "tags": []
          },
          "execution_count": 103
        }
      ]
    },
    {
      "cell_type": "code",
      "metadata": {
        "id": "kBpCeQ-YRM79",
        "colab_type": "code",
        "colab": {
          "base_uri": "https://localhost:8080/",
          "height": 87
        },
        "outputId": "3132c270-93e5-48bb-c421-f28b4fb3f65d"
      },
      "source": [
        "rev5d(z_new).numpy()[0, 1, :, :, 0]"
      ],
      "execution_count": null,
      "outputs": [
        {
          "output_type": "stream",
          "text": [
            "32 3 3 2\n"
          ],
          "name": "stdout"
        },
        {
          "output_type": "execute_result",
          "data": {
            "text/plain": [
              "array([[0., 0., 0.],\n",
              "       [1., 1., 1.],\n",
              "       [0., 0., 0.]])"
            ]
          },
          "metadata": {
            "tags": []
          },
          "execution_count": 56
        }
      ]
    },
    {
      "cell_type": "code",
      "metadata": {
        "id": "elq1NA9wtBD3",
        "colab_type": "code",
        "colab": {
          "base_uri": "https://localhost:8080/",
          "height": 34
        },
        "outputId": "be5d0d1d-b074-43ca-9137-c1127c05f933"
      },
      "source": [
        "nnn.shape"
      ],
      "execution_count": null,
      "outputs": [
        {
          "output_type": "execute_result",
          "data": {
            "text/plain": [
              "(2, 3, 3, 3, 4)"
            ]
          },
          "metadata": {
            "tags": []
          },
          "execution_count": 482
        }
      ]
    },
    {
      "cell_type": "code",
      "metadata": {
        "id": "v1aK0gvvtCc9",
        "colab_type": "code",
        "colab": {
          "base_uri": "https://localhost:8080/",
          "height": 212
        },
        "outputId": "221bb758-d6a1-4354-bd4b-9d28cdf62d06"
      },
      "source": [
        "nnn[0, :, :, :, 0]"
      ],
      "execution_count": null,
      "outputs": [
        {
          "output_type": "execute_result",
          "data": {
            "text/plain": [
              "array([[[1., 1., 1.],\n",
              "        [0., 0., 0.],\n",
              "        [0., 0., 0.]],\n",
              "\n",
              "       [[0., 0., 0.],\n",
              "        [1., 1., 1.],\n",
              "        [0., 0., 0.]],\n",
              "\n",
              "       [[0., 0., 0.],\n",
              "        [0., 0., 0.],\n",
              "        [1., 1., 1.]]])"
            ]
          },
          "metadata": {
            "tags": []
          },
          "execution_count": 484
        }
      ]
    },
    {
      "cell_type": "code",
      "metadata": {
        "id": "qXoMf8MvSmJC",
        "colab_type": "code",
        "colab": {
          "base_uri": "https://localhost:8080/",
          "height": 265
        },
        "outputId": "9009d257-7292-42cc-ff49-8a4f83e2d1e0"
      },
      "source": [
        "mask_new[:,]"
      ],
      "execution_count": null,
      "outputs": [
        {
          "output_type": "execute_result",
          "data": {
            "text/plain": [
              "array([[[1., 0., 0., 0.],\n",
              "        [0., 1., 0., 0.],\n",
              "        [0., 0., 1., 0.],\n",
              "        [0., 0., 0., 1.]],\n",
              "\n",
              "       [[1., 0., 0., 0.],\n",
              "        [0., 1., 0., 0.],\n",
              "        [0., 0., 1., 0.],\n",
              "        [0., 0., 0., 1.]],\n",
              "\n",
              "       [[1., 0., 0., 0.],\n",
              "        [0., 1., 0., 0.],\n",
              "        [0., 0., 1., 0.],\n",
              "        [0., 0., 0., 1.]]])"
            ]
          },
          "metadata": {
            "tags": []
          },
          "execution_count": 444
        }
      ]
    },
    {
      "cell_type": "code",
      "metadata": {
        "id": "mOflgsyHXrWe",
        "colab_type": "code",
        "colab": {}
      },
      "source": [
        "test_ones = np.ones((2, 3, 3, 4))\n",
        "test_ones[:,:,:,1] = 3.4\n",
        "z_new = tf.convert_to_tensor(test_ones)"
      ],
      "execution_count": null,
      "outputs": []
    },
    {
      "cell_type": "code",
      "metadata": {
        "id": "IhprojPVXh8a",
        "colab_type": "code",
        "colab": {}
      },
      "source": [
        "mask_new = np.zeros((3, 4, 4))\n",
        "for i in range(4):\n",
        "    mask_new[:, i, i] = 1\n",
        "ll_new = tf.Variable(mask_new)"
      ],
      "execution_count": null,
      "outputs": []
    },
    {
      "cell_type": "code",
      "metadata": {
        "id": "nBL63LnFSJ_o",
        "colab_type": "code",
        "colab": {
          "base_uri": "https://localhost:8080/",
          "height": 34
        },
        "outputId": "5f5eae0f-cfb2-4438-ecb2-9107b49ec988"
      },
      "source": [
        "res_new = tf.keras.backend.dot(z_new, ll_new)\n",
        "rr_new = res_new.numpy()\n",
        "rr_new.shape"
      ],
      "execution_count": null,
      "outputs": [
        {
          "output_type": "execute_result",
          "data": {
            "text/plain": [
              "(2, 3, 3, 3, 4)"
            ]
          },
          "metadata": {
            "tags": []
          },
          "execution_count": 70
        }
      ]
    },
    {
      "cell_type": "code",
      "metadata": {
        "id": "g8zpq7m5au2R",
        "colab_type": "code",
        "colab": {
          "base_uri": "https://localhost:8080/",
          "height": 212
        },
        "outputId": "752e04b9-f93f-46f6-da3d-55e7ec37dd3e"
      },
      "source": [
        "rr_new[0, :, :, :, 0]"
      ],
      "execution_count": null,
      "outputs": [
        {
          "output_type": "execute_result",
          "data": {
            "text/plain": [
              "array([[[1., 1., 1.],\n",
              "        [1., 1., 1.],\n",
              "        [1., 1., 1.]],\n",
              "\n",
              "       [[1., 1., 1.],\n",
              "        [1., 1., 1.],\n",
              "        [1., 1., 1.]],\n",
              "\n",
              "       [[1., 1., 1.],\n",
              "        [1., 1., 1.],\n",
              "        [1., 1., 1.]]])"
            ]
          },
          "metadata": {
            "tags": []
          },
          "execution_count": 71
        }
      ]
    },
    {
      "cell_type": "code",
      "metadata": {
        "id": "JHZxGpC2qHRL",
        "colab_type": "code",
        "colab": {}
      },
      "source": [
        "zer = np.zeros((2, 3, 3, 3, 4))\n",
        "for i in range(3):\n",
        "  zer[:, i, i, :, :] = 1"
      ],
      "execution_count": null,
      "outputs": []
    },
    {
      "cell_type": "code",
      "metadata": {
        "id": "gWuFYbxqYfex",
        "colab_type": "code",
        "colab": {
          "base_uri": "https://localhost:8080/",
          "height": 70
        },
        "outputId": "d2ae5636-d901-49b7-83a5-5e8b03e0fec9"
      },
      "source": [
        "zer[0, 0, :, :, 0]"
      ],
      "execution_count": null,
      "outputs": [
        {
          "output_type": "execute_result",
          "data": {
            "text/plain": [
              "array([[1., 1., 1.],\n",
              "       [0., 0., 0.],\n",
              "       [0., 0., 0.]])"
            ]
          },
          "metadata": {
            "tags": []
          },
          "execution_count": 85
        }
      ]
    },
    {
      "cell_type": "code",
      "metadata": {
        "id": "pK5uKAyKYh-o",
        "colab_type": "code",
        "colab": {}
      },
      "source": [
        "res_22 = zer * rr_new"
      ],
      "execution_count": null,
      "outputs": []
    },
    {
      "cell_type": "code",
      "metadata": {
        "id": "tDHatYdBYzvr",
        "colab_type": "code",
        "colab": {
          "base_uri": "https://localhost:8080/",
          "height": 70
        },
        "outputId": "71598d6a-0480-4cc0-d503-c986e4910805"
      },
      "source": [
        "res_22[0, 2,:, :, 1]"
      ],
      "execution_count": null,
      "outputs": [
        {
          "output_type": "execute_result",
          "data": {
            "text/plain": [
              "array([[0. , 0. , 0. ],\n",
              "       [0. , 0. , 0. ],\n",
              "       [3.4, 3.4, 3.4]])"
            ]
          },
          "metadata": {
            "tags": []
          },
          "execution_count": 92
        }
      ]
    },
    {
      "cell_type": "code",
      "metadata": {
        "id": "yPberD34Y5qc",
        "colab_type": "code",
        "colab": {}
      },
      "source": [
        ""
      ],
      "execution_count": null,
      "outputs": []
    }
  ]
}