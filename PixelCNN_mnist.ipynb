{
  "nbformat": 4,
  "nbformat_minor": 0,
  "metadata": {
    "colab": {
      "name": "PixelCNN_mnist.ipynb",
      "provenance": [],
      "collapsed_sections": []
    },
    "kernelspec": {
      "name": "python3",
      "display_name": "Python 3"
    },
    "accelerator": "GPU"
  },
  "cells": [
    {
      "cell_type": "code",
      "metadata": {
        "id": "qrfd6FzSLrE2",
        "colab_type": "code",
        "colab": {}
      },
      "source": [
        "from tensorflow.keras.models import Model\n",
        "from tensorflow.keras.layers import Conv2D, Input, ReLU, Add, Layer, Activation\n",
        "from tensorflow import keras\n",
        "from tensorflow.keras.callbacks import ReduceLROnPlateau, ModelCheckpoint\n",
        "import tensorflow as tf\n",
        "import math\n",
        "import numpy as np\n",
        "import matplotlib.pyplot as plt\n",
        "\n",
        "%matplotlib inline "
      ],
      "execution_count": null,
      "outputs": []
    },
    {
      "cell_type": "code",
      "metadata": {
        "id": "5eHy-hCUN3ul",
        "colab_type": "code",
        "colab": {}
      },
      "source": [
        "tf.keras.backend.clear_session()"
      ],
      "execution_count": null,
      "outputs": []
    },
    {
      "cell_type": "code",
      "metadata": {
        "id": "o7Svvf9qmnev",
        "colab_type": "code",
        "colab": {}
      },
      "source": [
        "class MaskConv2D(Conv2D):\n",
        "    def __init__(self, *args, mask_type = 'B', **kwargs):\n",
        "        super().__init__(*args, **kwargs)\n",
        "        self.mask = None\n",
        "        self.mask_t = mask_type\n",
        "\n",
        "    def build(self, input_shape):\n",
        "        super().build(input_shape)\n",
        "        filter_height, filter_width, filters_input, filters_output = self.kernel.shape\n",
        "        self.mask = np.ones(self.kernel.shape).astype('f')\n",
        "        yc, xc = filter_height // 2, filter_width // 2\n",
        "        self.mask[yc + 1:,] = 0.0\n",
        "        self.mask[yc, xc + 1:] = 0.0\n",
        "        if self.mask_t == 'A':\n",
        "          self.mask[yc, xc] = 0.0\n",
        "        # else:\n",
        "          # green = np.zeros(filters_output)\n",
        "          # blue = np.zeros(filters_output)\n",
        "          # ind = range(filters_output)\n",
        "          # red = np.ones(filters_output)\n",
        "          # green_set = set(ind[1::3])\n",
        "          # blue_set = set(ind[2::3])\n",
        "          # green_ind = list(green_set.union(blue_set))\n",
        "          # blue_ind = list(blue_set)\n",
        "          # green[green_ind] += 1\n",
        "          # blue[blue_ind] += 1\n",
        "          # mat = np.zeros((filters_input, filters_output))\n",
        "          # self.mask = np.zeros(self.kernel.shape).astype('f')\n",
        "          # mat[::3] = red\n",
        "          # mat[1::3] = green\n",
        "          # mat[2::3] = blue\n",
        "          # self.mask[yc + 1:,:,] = mat\n",
        "          # self.mask[yc, xc:,] = mat\n",
        "    def call(self, x):\n",
        "        outputs = tf.keras.backend.conv2d(x, self.kernel * self.mask, strides=self.strides, padding=self.padding)\n",
        "        if self.use_bias:\n",
        "            outputs = tf.keras.backend.bias_add(\n",
        "                outputs,\n",
        "                self.bias,\n",
        "                data_format=self.data_format)\n",
        "        return outputs\n",
        "\n",
        "    def get_config(self):\n",
        "        return dict(list(super().get_config().items()))"
      ],
      "execution_count": null,
      "outputs": []
    },
    {
      "cell_type": "code",
      "metadata": {
        "id": "6Euu4tsBohyA",
        "colab_type": "code",
        "colab": {
          "base_uri": "https://localhost:8080/",
          "height": 34
        },
        "outputId": "d2950f5d-4385-4f44-fcea-cdae32bcc39f"
      },
      "source": [
        "3 // 2, 3 // 2"
      ],
      "execution_count": null,
      "outputs": [
        {
          "output_type": "execute_result",
          "data": {
            "text/plain": [
              "(1, 1)"
            ]
          },
          "metadata": {
            "tags": []
          },
          "execution_count": 39
        }
      ]
    },
    {
      "cell_type": "code",
      "metadata": {
        "id": "mSrABIR4gUl_",
        "colab_type": "code",
        "colab": {
          "base_uri": "https://localhost:8080/",
          "height": 136
        },
        "outputId": "c616610c-7399-47ba-e8a4-c940322ec324"
      },
      "source": [
        "y = Input((28, 28, 6))\n",
        "MaskConv2D(7, (3, 3), padding='same', input_shape=y.shape, mask_type='B')(y)\n"
      ],
      "execution_count": null,
      "outputs": [
        {
          "output_type": "stream",
          "text": [
            "[[1. 1. 1. 1. 1. 1. 1.]\n",
            " [0. 1. 1. 0. 1. 1. 0.]\n",
            " [0. 0. 1. 0. 0. 1. 0.]\n",
            " [1. 1. 1. 1. 1. 1. 1.]\n",
            " [0. 1. 1. 0. 1. 1. 0.]\n",
            " [0. 0. 1. 0. 0. 1. 0.]]\n"
          ],
          "name": "stdout"
        },
        {
          "output_type": "execute_result",
          "data": {
            "text/plain": [
              "<tf.Tensor 'mask_conv2d_4/Identity:0' shape=(None, 28, 28, 7) dtype=float32>"
            ]
          },
          "metadata": {
            "tags": []
          },
          "execution_count": 17
        }
      ]
    },
    {
      "cell_type": "code",
      "metadata": {
        "id": "VcUVa1_wwzSz",
        "colab_type": "code",
        "colab": {}
      },
      "source": [
        "def Residualblock(x):\n",
        "  model = ReLU()(x)\n",
        "\n",
        "  model = MaskConv2D(64, (1, 1), padding='same', mask_type='B')(model)\n",
        "  model = ReLU()(model)\n",
        "  \n",
        "  model = MaskConv2D(64, (3, 3), padding='same', mask_type='B')(model)\n",
        "  model = ReLU()(model)\n",
        "\n",
        "  model = MaskConv2D(128, (1, 1), padding='same', mask_type='B')(model)\n",
        "  model = Add()([x, model])\n",
        "  return model\n"
      ],
      "execution_count": null,
      "outputs": []
    },
    {
      "cell_type": "code",
      "metadata": {
        "id": "sWfrG3Th5qHF",
        "colab_type": "code",
        "colab": {}
      },
      "source": [
        "(X_train, y_train), (X_test, Y_test) = tf.keras.datasets.mnist.load_data(path=\"mnist.npz\")\n",
        "data = np.concatenate((X_train, X_test), axis=0)"
      ],
      "execution_count": null,
      "outputs": []
    },
    {
      "cell_type": "code",
      "metadata": {
        "id": "Z6YOlys8G9Xo",
        "colab_type": "code",
        "colab": {
          "base_uri": "https://localhost:8080/",
          "height": 282
        },
        "outputId": "70357c9f-797e-4b7c-845b-db2a2df67e28"
      },
      "source": [
        "data = data.astype('float32')\n",
        "data /= 255\n",
        "data = np.around(1 - data)\n",
        "data = data.reshape(data.shape[0], 28, 28, 1)\n",
        "plt.imshow(data[0, :, :, 0], cmap='Greys')"
      ],
      "execution_count": null,
      "outputs": [
        {
          "output_type": "execute_result",
          "data": {
            "text/plain": [
              "<matplotlib.image.AxesImage at 0x7f361ae4f908>"
            ]
          },
          "metadata": {
            "tags": []
          },
          "execution_count": 5
        },
        {
          "output_type": "display_data",
          "data": {
            "image/png": "[encoded data removed]",
            "text/plain": [
              "<Figure size 432x288 with 1 Axes>"
            ]
          },
          "metadata": {
            "tags": [],
            "needs_background": "light"
          }
        }
      ]
    },
    {
      "cell_type": "code",
      "metadata": {
        "id": "qYwKFtgXmXsc",
        "colab_type": "code",
        "colab": {}
      },
      "source": [
        "shape = (28, 28, 1)\n",
        "\n",
        "inputs = Input(shape)\n",
        "model = MaskConv2D(128, (7,7), padding='same', mask_type='A')(inputs)\n",
        "\n",
        "model = Residualblock(model)\n",
        "model = ReLU()(model)\n",
        "\n",
        "model = Residualblock(model)\n",
        "model = ReLU()(model)\n",
        "\n",
        "model = Residualblock(model)\n",
        "model = ReLU()(model)\n",
        "\n",
        "model = Residualblock(model)\n",
        "model = ReLU()(model)\n",
        "\n",
        "model = Residualblock(model)\n",
        "model = ReLU()(model)\n",
        "\n",
        "model = MaskConv2D(128, (1,1), padding='same', mask_type='B')(model)\n",
        "model = ReLU()(model)\n",
        "\n",
        "model = MaskConv2D(1, (1,1), padding='same', mask_type='B')(model)\n",
        "outputs = Activation('sigmoid')(model)\n",
        "\n",
        "model = keras.Model(inputs, outputs)"
      ],
      "execution_count": null,
      "outputs": []
    },
    {
      "cell_type": "code",
      "metadata": {
        "id": "PTcbSxchKZjd",
        "colab_type": "code",
        "colab": {
          "base_uri": "https://localhost:8080/",
          "height": 1000
        },
        "outputId": "eb05d786-dc85-43d0-d6a3-32165d29d5d9"
      },
      "source": [
        "model.compile(loss=\"binary_crossentropy\", optimizer=\"adam\")\n",
        "print(model.summary())"
      ],
      "execution_count": null,
      "outputs": [
        {
          "output_type": "stream",
          "text": [
            "Model: \"model\"\n",
            "__________________________________________________________________________________________________\n",
            "Layer (type)                    Output Shape         Param #     Connected to                     \n",
            "==================================================================================================\n",
            "input_1 (InputLayer)            [(None, 28, 28, 1)]  0                                            \n",
            "__________________________________________________________________________________________________\n",
            "mask_conv2d (MaskConv2D)        (None, 28, 28, 128)  6400        input_1[0][0]                    \n",
            "__________________________________________________________________________________________________\n",
            "re_lu (ReLU)                    (None, 28, 28, 128)  0           mask_conv2d[0][0]                \n",
            "__________________________________________________________________________________________________\n",
            "mask_conv2d_1 (MaskConv2D)      (None, 28, 28, 64)   8256        re_lu[0][0]                      \n",
            "__________________________________________________________________________________________________\n",
            "re_lu_1 (ReLU)                  (None, 28, 28, 64)   0           mask_conv2d_1[0][0]              \n",
            "__________________________________________________________________________________________________\n",
            "mask_conv2d_2 (MaskConv2D)      (None, 28, 28, 64)   36928       re_lu_1[0][0]                    \n",
            "__________________________________________________________________________________________________\n",
            "re_lu_2 (ReLU)                  (None, 28, 28, 64)   0           mask_conv2d_2[0][0]              \n",
            "__________________________________________________________________________________________________\n",
            "mask_conv2d_3 (MaskConv2D)      (None, 28, 28, 128)  8320        re_lu_2[0][0]                    \n",
            "__________________________________________________________________________________________________\n",
            "add (Add)                       (None, 28, 28, 128)  0           mask_conv2d[0][0]                \n",
            "                                                                 mask_conv2d_3[0][0]              \n",
            "__________________________________________________________________________________________________\n",
            "re_lu_3 (ReLU)                  (None, 28, 28, 128)  0           add[0][0]                        \n",
            "__________________________________________________________________________________________________\n",
            "re_lu_4 (ReLU)                  (None, 28, 28, 128)  0           re_lu_3[0][0]                    \n",
            "__________________________________________________________________________________________________\n",
            "mask_conv2d_4 (MaskConv2D)      (None, 28, 28, 64)   8256        re_lu_4[0][0]                    \n",
            "__________________________________________________________________________________________________\n",
            "re_lu_5 (ReLU)                  (None, 28, 28, 64)   0           mask_conv2d_4[0][0]              \n",
            "__________________________________________________________________________________________________\n",
            "mask_conv2d_5 (MaskConv2D)      (None, 28, 28, 64)   36928       re_lu_5[0][0]                    \n",
            "__________________________________________________________________________________________________\n",
            "re_lu_6 (ReLU)                  (None, 28, 28, 64)   0           mask_conv2d_5[0][0]              \n",
            "__________________________________________________________________________________________________\n",
            "mask_conv2d_6 (MaskConv2D)      (None, 28, 28, 128)  8320        re_lu_6[0][0]                    \n",
            "__________________________________________________________________________________________________\n",
            "add_1 (Add)                     (None, 28, 28, 128)  0           re_lu_3[0][0]                    \n",
            "                                                                 mask_conv2d_6[0][0]              \n",
            "__________________________________________________________________________________________________\n",
            "re_lu_7 (ReLU)                  (None, 28, 28, 128)  0           add_1[0][0]                      \n",
            "__________________________________________________________________________________________________\n",
            "re_lu_8 (ReLU)                  (None, 28, 28, 128)  0           re_lu_7[0][0]                    \n",
            "__________________________________________________________________________________________________\n",
            "mask_conv2d_7 (MaskConv2D)      (None, 28, 28, 64)   8256        re_lu_8[0][0]                    \n",
            "__________________________________________________________________________________________________\n",
            "re_lu_9 (ReLU)                  (None, 28, 28, 64)   0           mask_conv2d_7[0][0]              \n",
            "__________________________________________________________________________________________________\n",
            "mask_conv2d_8 (MaskConv2D)      (None, 28, 28, 64)   36928       re_lu_9[0][0]                    \n",
            "__________________________________________________________________________________________________\n",
            "re_lu_10 (ReLU)                 (None, 28, 28, 64)   0           mask_conv2d_8[0][0]              \n",
            "__________________________________________________________________________________________________\n",
            "mask_conv2d_9 (MaskConv2D)      (None, 28, 28, 128)  8320        re_lu_10[0][0]                   \n",
            "__________________________________________________________________________________________________\n",
            "add_2 (Add)                     (None, 28, 28, 128)  0           re_lu_7[0][0]                    \n",
            "                                                                 mask_conv2d_9[0][0]              \n",
            "__________________________________________________________________________________________________\n",
            "re_lu_11 (ReLU)                 (None, 28, 28, 128)  0           add_2[0][0]                      \n",
            "__________________________________________________________________________________________________\n",
            "re_lu_12 (ReLU)                 (None, 28, 28, 128)  0           re_lu_11[0][0]                   \n",
            "__________________________________________________________________________________________________\n",
            "mask_conv2d_10 (MaskConv2D)     (None, 28, 28, 64)   8256        re_lu_12[0][0]                   \n",
            "__________________________________________________________________________________________________\n",
            "re_lu_13 (ReLU)                 (None, 28, 28, 64)   0           mask_conv2d_10[0][0]             \n",
            "__________________________________________________________________________________________________\n",
            "mask_conv2d_11 (MaskConv2D)     (None, 28, 28, 64)   36928       re_lu_13[0][0]                   \n",
            "__________________________________________________________________________________________________\n",
            "re_lu_14 (ReLU)                 (None, 28, 28, 64)   0           mask_conv2d_11[0][0]             \n",
            "__________________________________________________________________________________________________\n",
            "mask_conv2d_12 (MaskConv2D)     (None, 28, 28, 128)  8320        re_lu_14[0][0]                   \n",
            "__________________________________________________________________________________________________\n",
            "add_3 (Add)                     (None, 28, 28, 128)  0           re_lu_11[0][0]                   \n",
            "                                                                 mask_conv2d_12[0][0]             \n",
            "__________________________________________________________________________________________________\n",
            "re_lu_15 (ReLU)                 (None, 28, 28, 128)  0           add_3[0][0]                      \n",
            "__________________________________________________________________________________________________\n",
            "re_lu_16 (ReLU)                 (None, 28, 28, 128)  0           re_lu_15[0][0]                   \n",
            "__________________________________________________________________________________________________\n",
            "mask_conv2d_13 (MaskConv2D)     (None, 28, 28, 64)   8256        re_lu_16[0][0]                   \n",
            "__________________________________________________________________________________________________\n",
            "re_lu_17 (ReLU)                 (None, 28, 28, 64)   0           mask_conv2d_13[0][0]             \n",
            "__________________________________________________________________________________________________\n",
            "mask_conv2d_14 (MaskConv2D)     (None, 28, 28, 64)   36928       re_lu_17[0][0]                   \n",
            "__________________________________________________________________________________________________\n",
            "re_lu_18 (ReLU)                 (None, 28, 28, 64)   0           mask_conv2d_14[0][0]             \n",
            "__________________________________________________________________________________________________\n",
            "mask_conv2d_15 (MaskConv2D)     (None, 28, 28, 128)  8320        re_lu_18[0][0]                   \n",
            "__________________________________________________________________________________________________\n",
            "add_4 (Add)                     (None, 28, 28, 128)  0           re_lu_15[0][0]                   \n",
            "                                                                 mask_conv2d_15[0][0]             \n",
            "__________________________________________________________________________________________________\n",
            "re_lu_19 (ReLU)                 (None, 28, 28, 128)  0           add_4[0][0]                      \n",
            "__________________________________________________________________________________________________\n",
            "mask_conv2d_16 (MaskConv2D)     (None, 28, 28, 128)  16512       re_lu_19[0][0]                   \n",
            "__________________________________________________________________________________________________\n",
            "re_lu_20 (ReLU)                 (None, 28, 28, 128)  0           mask_conv2d_16[0][0]             \n",
            "__________________________________________________________________________________________________\n",
            "mask_conv2d_17 (MaskConv2D)     (None, 28, 28, 1)    129         re_lu_20[0][0]                   \n",
            "__________________________________________________________________________________________________\n",
            "activation (Activation)         (None, 28, 28, 1)    0           mask_conv2d_17[0][0]             \n",
            "==================================================================================================\n",
            "Total params: 290,561\n",
            "Trainable params: 290,561\n",
            "Non-trainable params: 0\n",
            "__________________________________________________________________________________________________\n",
            "None\n"
          ],
          "name": "stdout"
        }
      ]
    },
    {
      "cell_type": "code",
      "metadata": {
        "id": "4HGrsWQpfzvO",
        "colab_type": "code",
        "colab": {
          "base_uri": "https://localhost:8080/",
          "height": 136
        },
        "outputId": "330e4ae7-d4c8-407c-8ea8-668ea4f81eb8"
      },
      "source": [
        "model.layers[5].mask[1, 1, :, :]"
      ],
      "execution_count": null,
      "outputs": [
        {
          "output_type": "execute_result",
          "data": {
            "text/plain": [
              "array([[1., 1., 1., ..., 1., 1., 1.],\n",
              "       [1., 1., 1., ..., 1., 1., 1.],\n",
              "       [1., 1., 1., ..., 1., 1., 1.],\n",
              "       ...,\n",
              "       [1., 1., 1., ..., 1., 1., 1.],\n",
              "       [1., 1., 1., ..., 1., 1., 1.],\n",
              "       [1., 1., 1., ..., 1., 1., 1.]], dtype=float32)"
            ]
          },
          "metadata": {
            "tags": []
          },
          "execution_count": 22
        }
      ]
    },
    {
      "cell_type": "code",
      "metadata": {
        "id": "H6EIXu1dKoju",
        "colab_type": "code",
        "colab": {
          "base_uri": "https://localhost:8080/",
          "height": 374
        },
        "outputId": "2cd677e1-a16f-4e01-e6db-c6ffe0770a7e"
      },
      "source": [
        "model.fit(data, data,\n",
        "      batch_size=32, epochs=10)"
      ],
      "execution_count": null,
      "outputs": [
        {
          "output_type": "stream",
          "text": [
            "Epoch 1/10\n",
            "2188/2188 [==============================] - 54s 25ms/step - loss: 0.0951\n",
            "Epoch 2/10\n",
            "2188/2188 [==============================] - 55s 25ms/step - loss: 0.0865\n",
            "Epoch 3/10\n",
            "2188/2188 [==============================] - 54s 25ms/step - loss: 0.0851\n",
            "Epoch 4/10\n",
            "2188/2188 [==============================] - 54s 25ms/step - loss: 0.0843\n",
            "Epoch 5/10\n",
            "2188/2188 [==============================] - 54s 25ms/step - loss: 0.0837\n",
            "Epoch 6/10\n",
            "2188/2188 [==============================] - 54s 25ms/step - loss: 0.0833\n",
            "Epoch 7/10\n",
            "2188/2188 [==============================] - 54s 25ms/step - loss: 0.0829\n",
            "Epoch 8/10\n",
            "2188/2188 [==============================] - 54s 25ms/step - loss: 0.0827\n",
            "Epoch 9/10\n",
            "2188/2188 [==============================] - 54s 25ms/step - loss: 0.0825\n",
            "Epoch 10/10\n",
            "2188/2188 [==============================] - 54s 25ms/step - loss: 0.0823\n"
          ],
          "name": "stdout"
        },
        {
          "output_type": "execute_result",
          "data": {
            "text/plain": [
              "<tensorflow.python.keras.callbacks.History at 0x7f361af35860>"
            ]
          },
          "metadata": {
            "tags": []
          },
          "execution_count": 12
        }
      ]
    },
    {
      "cell_type": "code",
      "metadata": {
        "id": "yoRdNKC3vSQZ",
        "colab_type": "code",
        "colab": {}
      },
      "source": [
        "pixels_new = np.zeros((1, 28, 28, 1))\n",
        "b, rows, cols, chan = pixels_new.shape\n",
        "for row in range(rows):\n",
        "    for col in range(cols):\n",
        "        predict = model.predict(pixels_new)\n",
        "        p = predict[0, row, col, 0]\n",
        "        pixels_new[0][row][col][0] = np.random.choice([0, 1], p=[1 - p, p])"
      ],
      "execution_count": null,
      "outputs": []
    },
    {
      "cell_type": "code",
      "metadata": {
        "id": "sDEPcUhMIy1S",
        "colab_type": "code",
        "colab": {
          "base_uri": "https://localhost:8080/",
          "height": 282
        },
        "outputId": "217c5575-9d7b-45e8-f50c-83ebeeb24bad"
      },
      "source": [
        "plt.imshow(pixels_new[0, :, :, 0], cmap='Greys')"
      ],
      "execution_count": null,
      "outputs": [
        {
          "output_type": "execute_result",
          "data": {
            "text/plain": [
              "<matplotlib.image.AxesImage at 0x7f35be2580f0>"
            ]
          },
          "metadata": {
            "tags": []
          },
          "execution_count": 14
        },
        {
          "output_type": "display_data",
          "data": {
            "image/png": "[encoded data removed]",
            "text/plain": [
              "<Figure size 432x288 with 1 Axes>"
            ]
          },
          "metadata": {
            "tags": [],
            "needs_background": "light"
          }
        }
      ]
    },
    {
      "cell_type": "code",
      "metadata": {
        "id": "04YlyBA0HuRR",
        "colab_type": "code",
        "colab": {
          "base_uri": "https://localhost:8080/",
          "height": 232
        },
        "outputId": "cb81a54e-3e34-4377-a9f7-0afae3376922"
      },
      "source": [
        "# Iterate the pixels because generation has to be done sequentially pixel by pixel.\n",
        "# for row in range(rows):\n",
        "#     for col in range(cols):\n",
        "#         for channel in range(channels):\n",
        "            # Feed the whole array and retrieving the pixel value probabilities for the next pixel.\n",
        "            # ps = model.predict_on_batch(pixels)[channel][:, row*cols+col]\n",
        "\n",
        "            # Use the probabilities to pick a pixel value.\n",
        "            # Lastly, we normalize the value.\n",
        "            # pixels[:, row, col, channel] = np.array([np.random.choice(256, p=p) for p in ps]) / 255\n",
        "\n",
        "# Iterate the generated images and plot them with matplotlib."
      ],
      "execution_count": null,
      "outputs": [
        {
          "output_type": "error",
          "ename": "IndexError",
          "evalue": "ignored",
          "traceback": [
            "\u001b[0;31m---------------------------------------------------------------------------\u001b[0m",
            "\u001b[0;31mIndexError\u001b[0m                                Traceback (most recent call last)",
            "\u001b[0;32m<ipython-input-13-a8d47ef6f565>\u001b[0m in \u001b[0;36m<module>\u001b[0;34m()\u001b[0m\n\u001b[1;32m      3\u001b[0m         \u001b[0;32mfor\u001b[0m \u001b[0mchannel\u001b[0m \u001b[0;32min\u001b[0m \u001b[0mrange\u001b[0m\u001b[0;34m(\u001b[0m\u001b[0mchannels\u001b[0m\u001b[0;34m)\u001b[0m\u001b[0;34m:\u001b[0m\u001b[0;34m\u001b[0m\u001b[0;34m\u001b[0m\u001b[0m\n\u001b[1;32m      4\u001b[0m             \u001b[0;31m# Feed the whole array and retrieving the pixel value probabilities for the next pixel.\u001b[0m\u001b[0;34m\u001b[0m\u001b[0;34m\u001b[0m\u001b[0;34m\u001b[0m\u001b[0m\n\u001b[0;32m----> 5\u001b[0;31m             \u001b[0mps\u001b[0m \u001b[0;34m=\u001b[0m \u001b[0mmodel\u001b[0m\u001b[0;34m.\u001b[0m\u001b[0mpredict_on_batch\u001b[0m\u001b[0;34m(\u001b[0m\u001b[0mpixels\u001b[0m\u001b[0;34m)\u001b[0m\u001b[0;34m[\u001b[0m\u001b[0mchannel\u001b[0m\u001b[0;34m]\u001b[0m\u001b[0;34m[\u001b[0m\u001b[0;34m:\u001b[0m\u001b[0;34m,\u001b[0m \u001b[0mrow\u001b[0m\u001b[0;34m*\u001b[0m\u001b[0mcols\u001b[0m\u001b[0;34m+\u001b[0m\u001b[0mcol\u001b[0m\u001b[0;34m]\u001b[0m\u001b[0;34m\u001b[0m\u001b[0;34m\u001b[0m\u001b[0m\n\u001b[0m\u001b[1;32m      6\u001b[0m \u001b[0;34m\u001b[0m\u001b[0m\n\u001b[1;32m      7\u001b[0m             \u001b[0;31m# Use the probabilities to pick a pixel value.\u001b[0m\u001b[0;34m\u001b[0m\u001b[0;34m\u001b[0m\u001b[0;34m\u001b[0m\u001b[0m\n",
            "\u001b[0;31mIndexError\u001b[0m: index 28 is out of bounds for axis 1 with size 28"
          ]
        }
      ]
    }
  ]
}